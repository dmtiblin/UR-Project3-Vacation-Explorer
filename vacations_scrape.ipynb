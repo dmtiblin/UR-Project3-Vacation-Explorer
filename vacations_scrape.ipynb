{
 "cells": [
  {
   "cell_type": "code",
   "execution_count": 1,
   "id": "e039e74b",
   "metadata": {},
   "outputs": [],
   "source": [
    " # Dependencies\n",
    "from bs4 import BeautifulSoup\n",
    "import requests\n",
    "from splinter import Browser\n",
    "from webdriver_manager.chrome import ChromeDriverManager\n",
    "import pandas as pd"
   ]
  },
  {
   "cell_type": "code",
   "execution_count": 14,
   "id": "a7037dea",
   "metadata": {},
   "outputs": [
    {
     "name": "stderr",
     "output_type": "stream",
     "text": [
      "\n",
      "\n",
      "====== WebDriver manager ======\n",
      "Current google-chrome version is 94.0.4606\n",
      "Get LATEST driver version for 94.0.4606\n",
      "Driver [C:\\Users\\dmtib\\.wdm\\drivers\\chromedriver\\win32\\94.0.4606.61\\chromedriver.exe] found in cache\n"
     ]
    }
   ],
   "source": [
    "# Setup splinter\n",
    "executable_path = {'executable_path': ChromeDriverManager().install()}\n",
    "browser = Browser('chrome', **executable_path, headless=False)"
   ]
  },
  {
   "cell_type": "code",
   "execution_count": 3,
   "id": "dfcd9aec",
   "metadata": {},
   "outputs": [
    {
     "name": "stdout",
     "output_type": "stream",
     "text": [
      "Top-rated vacation destinations in North America\n",
      "done\n"
     ]
    }
   ],
   "source": [
    "browser.visit('https://viewfinder.expedia.com/top-rated-vacation-destinations-in-north-america/')\n",
    "html = browser.html\n",
    "soup = BeautifulSoup(html, 'html.parser')\n",
    "\n",
    "title = soup.find('h1', 'post-title title title-large entry-title')\n",
    "\n",
    "print(title.text)\n",
    "print(\"done\")"
   ]
  },
  {
   "cell_type": "code",
   "execution_count": 4,
   "id": "6e479f66",
   "metadata": {},
   "outputs": [
    {
     "name": "stdout",
     "output_type": "stream",
     "text": [
      "['1. Wailea, Hawaii', '2. Cambria, California', '3. Springdale, Utah', '4. Quebec City, Quebec', '5. Ashland, Oregon', '6. Calgary, Alberta', '7. Victoria, British Columbia', '8. Sedona, Arizona', '9. Cambridge, Massachusetts', '10. Minneapolis, Minnesota', '11. Paso Robles, California', '12. Solvang, California', '13. Bar Harbor, Maine', '14. Key West, Florida', '15. Sanibel, Florida', '16. Pittsburgh, Pennsylvania', '17. Washington, D.C.', '18. Charleston, South Carolina', '19. Rosemont, Illinois', '20. Montreal, Quebec', '21. Durango, Colorado', '22. Vancouver, British Columbia', '23. Kihei, Hawaii', '24. Lahaina, Hawaii', '25. Lihue, Hawaii', '26. Chicago, Illinois', '27. Asheville, North Carolina', '28. Moab, Utah', '29. Seattle, Washington', '30. Chandler, Arizona', '31. Boston, Massachusetts', '32. Cleveland, Ohio', '33. New Orleans, Louisiana', '34. Treasure Island, Florida', '35. Park City, Utah', '36. Fargo, North Dakota', '37. Henderson, Nevada', '38. Garden Grove, California', '39. Scottsdale, Arizona', '40. Estes Park, Colorado', '41. Santa Fe, New Mexico', '42. Arlington, Virginia', '43. Laguna Beach, California', '44. Newport, Rhode Island', '45. Palm Desert, California', '46. Avalon, California', '47. Bozeman, Montana', '48. La Jolla, California', '49. Portland, Maine', '50. Biloxi, Mississippi', '1. Wailea, Hawaii', '2. Quebec City, Quebec', '3. Springdale, Utah', '4.\\xa0Victoria, British Columbia', '5. Calgary, Alberta']\n"
     ]
    }
   ],
   "source": [
    "browser.visit('https://viewfinder.expedia.com/top-rated-vacation-destinations-in-north-america/')\n",
    "html = browser.html\n",
    "soup = BeautifulSoup(html, 'html.parser')\n",
    "\n",
    "dest = soup.find_all('h3')\n",
    "\n",
    "dest_names = []\n",
    "\n",
    "i = 0\n",
    "\n",
    "for i in range(0,55):\n",
    "    dest_names.append(dest[i].text)\n",
    "#     print(dest[i].text)\n",
    " \n",
    "print(dest_names)"
   ]
  },
  {
   "cell_type": "code",
   "execution_count": 5,
   "id": "78e8ee55",
   "metadata": {},
   "outputs": [
    {
     "name": "stdout",
     "output_type": "stream",
     "text": [
      "['https://www.expedia.com/Wailea-Vacation-Rentals.d7739.Travel-Guide-VacationRentals', 'https://www.expedia.com/Cambria-Hotels.d6194.Travel-Guide-Hotels', 'https://www.expedia.com/Springdale-Vacation-Rentals.d9777.Travel-Guide-VacationRentals', 'https://www.expedia.com/Quebec-Vacation-Rentals.d180017.Travel-Guide-VacationRentals', 'https://www.expedia.com/Ashland-Hotels.d6290.Travel-Guide-Hotels', 'https://www.expedia.com/Calgary-Vacation-Rentals.d178245.Travel-Guide-VacationRentals', 'https://www.expedia.com/Victoria-Vacation-Rentals.d4138.Travel-Guide-VacationRentals', 'https://www.expedia.com/Sedona-Vacation-Rentals.d6054771.Travel-Guide-VacationRentals', 'https://www.expedia.com/Cambridge-Vacation-Rentals.d8093.Travel-Guide-VacationRentals', 'https://www.expedia.com/Minneapolis-Vacation-Rentals.d2426.Travel-Guide-VacationRentals', 'https://www.expedia.com/Paso-Robles-Hotels.d9468.Travel-Guide-Hotels', 'https://www.expedia.com/Solvang-Vacation-Rentals.d9797.Travel-Guide-VacationRentals', 'https://www.expedia.com/Bar-Harbor-Vacation-Rentals.d561.Travel-Guide-VacationRentals', 'https://www.expedia.com/Key-West-Vacation-Rentals.d1187.Travel-Guide-VacationRentals', 'https://www.expedia.com/Sanibel-Vacation-Rentals.d9791.Travel-Guide-VacationRentals', 'https://www.expedia.com/Pittsburgh-Vacation-Rentals.d601717.Travel-Guide-VacationRentals', 'https://www.expedia.com/Washington-Vacation-Rentals.d178318.Travel-Guide-VacationRentals', 'https://www.expedia.com/Charleston-Vacation-Rentals.d179997.Travel-Guide-VacationRentals', 'https://www.expedia.com/Rosemont-Vacation-Rentals.d7581.Travel-Guide-VacationRentals', 'https://www.expedia.com/Montreal-Vacation-Rentals.d178288.Travel-Guide-VacationRentals', 'https://www.expedia.com/Durango-Hotels.d1057.Travel-Guide-Hotels', 'https://www.expedia.com/Vancouver-Vacation-Rentals.d178315.Travel-Guide-VacationRentals', 'https://www.expedia.com/Kihei-Vacation-Rentals.d9304.Travel-Guide-VacationRentals', 'https://www.expedia.com/Lahaina-Vacation-Rentals.d8499.Travel-Guide-VacationRentals', 'https://www.expedia.com/Lihue-Vacation-Rentals.d2074.Travel-Guide-VacationRentals', 'https://www.expedia.com/Chicago-Vacation-Rentals.d178248.Travel-Guide-VacationRentals', 'https://www.expedia.com/Asheville-Vacation-Rentals.d6034866.Travel-Guide-VacationRentals', 'https://www.expedia.com/Moab-Vacation-Rentals.d6176216.Travel-Guide-VacationRentals', 'https://www.expedia.com/Seattle-Vacation-Rentals.d178307.Travel-Guide-VacationRentals', 'https://www.expedia.com/Chandler-Hotels.d6615.Travel-Guide-Hotels', 'https://www.expedia.com/Boston-Vacation-Rentals.d178239.Travel-Guide-VacationRentals', 'https://www.expedia.com/Cleveland-Vacation-Rentals.d178250.Travel-Guide-VacationRentals', 'https://www.expedia.com/New-Orleans-Vacation-Rentals.d178292.Travel-Guide-VacationRentals', 'https://www.expedia.com/Treasure-Island-Vacation-Rentals.d7329.Travel-Guide-VacationRentals', 'https://www.expedia.com/Park-City-Vacation-Rentals.d602285.Travel-Guide-VacationRentals', 'https://www.expedia.com/Fargo-Vacation-Rentals.d6059376.Travel-Guide-VacationRentals', 'https://www.expedia.com/Henderson-Hotels.d7586.Travel-Guide-Hotels', 'https://www.expedia.com/Garden-Grove-Vacation-Rentals.d7972.Travel-Guide-VacationRentals', 'https://www.expedia.com/Scottsdale-Hotels.d9829.Travel-Guide-Hotels', 'https://www.expedia.com/Estes-Park-Vacation-Rentals.d7854.Travel-Guide-VacationRentals', 'https://www.expedia.com/Santa-Fe-Vacation-Rentals.d180028.Travel-Guide-VacationRentals', 'https://www.expedia.com/Arlington-Vacation-Rentals.d6235.Travel-Guide-VacationRentals', 'https://www.expedia.com/Laguna-Beach-Vacation-Rentals.d8384.Travel-Guide-VacationRentals', 'https://www.expedia.com/Newport-Vacation-Rentals.d180037.Travel-Guide-VacationRentals', 'https://www.expedia.com/Palm-Desert-Vacation-Rentals.d10283.Travel-Guide-VacationRentals', 'https://www.expedia.com/Avalon-Vacation-Rentals.d10745.Travel-Guide-VacationRentals', 'https://www.expedia.com/Bozeman-Vacation-Rentals.d757.Travel-Guide-VacationRentals', 'https://www.expedia.com/La-Jolla-Vacation-Rentals.d6126584.Travel-Guide-VacationRentals', 'https://www.expedia.com/Portland-Vacation-Rentals.d181420.Travel-Guide-VacationRentals', 'https://www.expedia.com/Biloxi-Vacation-Rentals.d603259.Travel-Guide-VacationRentals']\n",
      "done\n"
     ]
    }
   ],
   "source": [
    "import requests\n",
    "from bs4 import BeautifulSoup\n",
    "\n",
    "html = requests.get(\n",
    "    'https://viewfinder.expedia.com/top-rated-vacation-destinations-in-north-america/').text\n",
    "bs = BeautifulSoup(html)\n",
    "\n",
    "possible_links = bs.find_all(\"a\", rel=\"noopener noreferrer\")\n",
    "\n",
    "urls =[]\n",
    "\n",
    "for link in possible_links:\n",
    "    if link.has_attr('href'):\n",
    "        urls.append(link.attrs['href'])\n",
    "        #print (link.attrs['href'])\n",
    "\n",
    "\n",
    "print(urls[0:50])\n",
    "print(\"done\")"
   ]
  },
  {
   "cell_type": "code",
   "execution_count": 6,
   "id": "e3be14f5",
   "metadata": {},
   "outputs": [
    {
     "name": "stdout",
     "output_type": "stream",
     "text": [
      "['https://viewfinder.expedia.com/wp-content/uploads/2017/04/01-ECOM-ViewfinderTopNorthAmerica-1000x667-WaileaHawaii.jpg', 'https://viewfinder.expedia.com/wp-content/uploads/2017/04/02-ECOM-ViewfinderTopNorthAmerica-1000x667-CambriaCalifornia.jpg', 'https://viewfinder.expedia.com/wp-content/uploads/2017/04/03-ECOM-ViewfinderTopNorthAmerica-1000x667-SpringdaleUtah.jpg', 'https://viewfinder.expedia.com/wp-content/uploads/2017/04/04-ECOM-ViewfinderTopNorthAmerica-1000x667-QuebecCityQuebec.jpg', 'https://viewfinder.expedia.com/wp-content/uploads/2017/04/05-ECOM-ViewfinderTopNorthAmerica-1000x667-AshlandOregon.jpg', 'https://viewfinder.expedia.com/wp-content/uploads/2017/04/06-ECOM-ViewfinderTopNorthAmerica-1000x667-CalgaryAlberta.jpg', 'https://viewfinder.expedia.com/wp-content/uploads/2017/04/07-ECOM-ViewfinderTopNorthAmerica-1000x667-VictoriaBritishColumbus.jpg', 'https://viewfinder.expedia.com/wp-content/uploads/2017/04/08-ECOM-ViewfinderTopNorthAmerica-1000x667-SedonaArizona.jpg', 'https://viewfinder.expedia.com/wp-content/uploads/2017/04/09-ECOM-ViewfinderTopNorthAmerica-1000x667-CambridgeMassachusetts.jpg', 'https://viewfinder.expedia.com/wp-content/uploads/2017/04/10-ECOM-ViewfinderTopNorthAmerica-1000x667-MinneapolisMinnesota.jpg', 'https://viewfinder.expedia.com/wp-content/uploads/2017/04/11-ECOM-ViewfinderTopNorthAmerica-1000x667-PasoRoblesCalifornia.jpg', 'https://viewfinder.expedia.com/wp-content/uploads/2017/04/12-ECOM-ViewfinderTopNorthAmerica-1000x667-SolvangCalifornia.jpg', 'https://viewfinder.expedia.com/wp-content/uploads/2017/04/13-ECOM-ViewfinderTopNorthAmerica-1000x667-BarHarborMaine.jpg', 'https://viewfinder.expedia.com/wp-content/uploads/2017/04/14-ECOM-ViewfinderTopNorthAmerica-1000x667-KeyWestFlorida.jpg', 'https://viewfinder.expedia.com/wp-content/uploads/2017/04/15-ECOM-ViewfinderTopNorthAmerica-1000x667-SanibelFlorida.jpg', 'https://viewfinder.expedia.com/wp-content/uploads/2017/04/16-ECOM-ViewfinderTopNorthAmerica-1000x667-PittsburghPennsylvania.jpg', 'https://viewfinder.expedia.com/wp-content/uploads/2017/04/17-ECOM-ViewfinderTopNorthAmerica-1000x667-WashingtonDC.jpg', 'https://viewfinder.expedia.com/wp-content/uploads/2017/04/18-ECOM-ViewfinderTopNorthAmerica-1000x667-CharlestonSouthCarolina.jpg', 'https://viewfinder.expedia.com/wp-content/uploads/2017/04/19-ECOM-ViewfinderTopNorthAmerica-1000x667-RosemontIllinois.jpg', 'https://viewfinder.expedia.com/wp-content/uploads/2017/04/20-ECOM-ViewfinderTopNorthAmerica-1000x667-MontrealQuebec.jpg', 'https://viewfinder.expedia.com/wp-content/uploads/2017/04/21-ECOM-ViewfinderTopNorthAmerica-1000x667-DurangoColorado.jpg', 'https://viewfinder.expedia.com/wp-content/uploads/2017/04/22-ECOM-ViewfinderTopNorthAmerica-1000x667-VancouverBritishColumbia.jpg', 'https://viewfinder.expedia.com/wp-content/uploads/2017/04/23-ECOM-ViewfinderTopNorthAmerica-1000x667-KiheiHawaii.jpg', 'https://viewfinder.expedia.com/wp-content/uploads/2017/04/24-ECOM-ViewfinderTopNorthAmerica-1000x667-LahainaHawaii.jpg']\n",
      "done\n"
     ]
    }
   ],
   "source": [
    "#found that expedia does not have pictures of locations past #25\n",
    "\n",
    "import requests\n",
    "from bs4 import BeautifulSoup\n",
    "img_url = 'https://viewfinder.expedia.com/top-rated-vacation-destinations-in-north-america/'\n",
    "\n",
    "browser.visit(img_url)\n",
    "\n",
    "# Retrieve page\n",
    "html_img = browser.html\n",
    "\n",
    "bs_img = BeautifulSoup(html_img)\n",
    "\n",
    "pictures = bs.find_all('img', loading='lazy')\n",
    "\n",
    "pics =[]\n",
    "\n",
    "for image in pictures:\n",
    "    pics.append(image['src'])\n",
    "\n",
    "\n",
    "print(pics[1:25])\n",
    "print(\"done\")"
   ]
  },
  {
   "cell_type": "code",
   "execution_count": 7,
   "id": "05de4523",
   "metadata": {},
   "outputs": [],
   "source": [
    "import requests\n",
    "from bs4 import BeautifulSoup\n",
    "img_url = 'https://viewfinder.expedia.com/top-rated-vacation-destinations-in-north-america/'\n",
    "\n",
    "browser.visit(img_url)\n",
    "\n",
    "# Retrieve page\n",
    "html_img = browser.html\n",
    "\n",
    "bs_img = BeautifulSoup(html_img)\n",
    "\n",
    "possible_links = bs_img.find_all(\"a\", rel=\"noopener noreferrer\")\n",
    "\n",
    "urls =[]\n",
    "\n",
    "for link in possible_links:\n",
    "    if link.has_attr('href'):\n",
    "        urls.append(link.attrs['href'])\n",
    "        #print (link.attrs['href'])\n",
    "\n",
    "        \n"
   ]
  },
  {
   "cell_type": "code",
   "execution_count": 9,
   "id": "aaf57f49",
   "metadata": {},
   "outputs": [
    {
     "ename": "IndexError",
     "evalue": "list index out of range",
     "output_type": "error",
     "traceback": [
      "\u001b[1;31m---------------------------------------------------------------------------\u001b[0m",
      "\u001b[1;31mIndexError\u001b[0m                                Traceback (most recent call last)",
      "\u001b[1;32m<ipython-input-9-a421aace92fc>\u001b[0m in \u001b[0;36m<module>\u001b[1;34m\u001b[0m\n\u001b[0;32m      7\u001b[0m     \u001b[0mbs\u001b[0m \u001b[1;33m=\u001b[0m \u001b[0mBeautifulSoup\u001b[0m\u001b[1;33m(\u001b[0m\u001b[0mhtml\u001b[0m\u001b[1;33m)\u001b[0m\u001b[1;33m\u001b[0m\u001b[1;33m\u001b[0m\u001b[0m\n\u001b[0;32m      8\u001b[0m     \u001b[0mFAQ_div\u001b[0m \u001b[1;33m=\u001b[0m \u001b[0mbs\u001b[0m\u001b[1;33m.\u001b[0m\u001b[0mfindAll\u001b[0m\u001b[1;33m(\u001b[0m\u001b[0mclass_\u001b[0m\u001b[1;33m=\u001b[0m\u001b[1;34m\"faqText\"\u001b[0m\u001b[1;33m)\u001b[0m\u001b[1;33m\u001b[0m\u001b[1;33m\u001b[0m\u001b[0m\n\u001b[1;32m----> 9\u001b[1;33m     \u001b[0mFAQ\u001b[0m \u001b[1;33m=\u001b[0m \u001b[0mFAQ_div\u001b[0m\u001b[1;33m[\u001b[0m\u001b[1;36m3\u001b[0m\u001b[1;33m]\u001b[0m\u001b[1;33m.\u001b[0m\u001b[0mtext\u001b[0m\u001b[1;33m\u001b[0m\u001b[1;33m\u001b[0m\u001b[0m\n\u001b[0m\u001b[0;32m     10\u001b[0m     \u001b[1;32mtry\u001b[0m\u001b[1;33m:\u001b[0m\u001b[1;33m\u001b[0m\u001b[1;33m\u001b[0m\u001b[0m\n\u001b[0;32m     11\u001b[0m         \u001b[0mimg_div\u001b[0m \u001b[1;33m=\u001b[0m \u001b[0mbs\u001b[0m\u001b[1;33m.\u001b[0m\u001b[0mfind\u001b[0m\u001b[1;33m(\u001b[0m\u001b[0mclass_\u001b[0m\u001b[1;33m=\u001b[0m\u001b[1;34m\"DestinationHero\"\u001b[0m\u001b[1;33m)\u001b[0m\u001b[1;33m[\u001b[0m\u001b[1;34m'style'\u001b[0m\u001b[1;33m]\u001b[0m\u001b[1;33m\u001b[0m\u001b[1;33m\u001b[0m\u001b[0m\n",
      "\u001b[1;31mIndexError\u001b[0m: list index out of range"
     ]
    }
   ],
   "source": [
    "urls2 = urls[25:50]\n",
    "imgs = []\n",
    "for url in urls2:\n",
    "    browser.visit(url)\n",
    "    html= browser.html\n",
    "\n",
    "    bs = BeautifulSoup(html)\n",
    "    FAQ_div = bs.findAll(class_=\"faqText\")\n",
    "    FAQ = FAQ_div[3].text\n",
    "    try:\n",
    "        img_div = bs.find(class_=\"DestinationHero\")['style']\n",
    "\n",
    "        img=img_div.split('\"')[1]\n",
    "        \n",
    "        print(img)\n",
    "    except:\n",
    "        img = \"no image\"\n",
    "        print(img)\n",
    "        \n",
    "    \n",
    "    print(FAQ)"
   ]
  },
  {
   "cell_type": "code",
   "execution_count": 15,
   "id": "0ecd716c",
   "metadata": {},
   "outputs": [
    {
     "ename": "IndexError",
     "evalue": "list index out of range",
     "output_type": "error",
     "traceback": [
      "\u001b[1;31m---------------------------------------------------------------------------\u001b[0m",
      "\u001b[1;31mIndexError\u001b[0m                                Traceback (most recent call last)",
      "\u001b[1;32m<ipython-input-15-345eddbebd2e>\u001b[0m in \u001b[0;36m<module>\u001b[1;34m\u001b[0m\n\u001b[0;32m      3\u001b[0m \u001b[0mbs3\u001b[0m \u001b[1;33m=\u001b[0m \u001b[0mBeautifulSoup\u001b[0m\u001b[1;33m(\u001b[0m\u001b[0mhtml3\u001b[0m\u001b[1;33m)\u001b[0m\u001b[1;33m\u001b[0m\u001b[1;33m\u001b[0m\u001b[0m\n\u001b[0;32m      4\u001b[0m \u001b[0mFAQ_div\u001b[0m \u001b[1;33m=\u001b[0m \u001b[0mbs3\u001b[0m\u001b[1;33m.\u001b[0m\u001b[0mfindAll\u001b[0m\u001b[1;33m(\u001b[0m\u001b[0mclass_\u001b[0m\u001b[1;33m=\u001b[0m\u001b[1;34m\"faqText\"\u001b[0m\u001b[1;33m)\u001b[0m\u001b[1;33m\u001b[0m\u001b[1;33m\u001b[0m\u001b[0m\n\u001b[1;32m----> 5\u001b[1;33m \u001b[0mFAQ\u001b[0m \u001b[1;33m=\u001b[0m \u001b[0mFAQ_div\u001b[0m\u001b[1;33m[\u001b[0m\u001b[1;36m3\u001b[0m\u001b[1;33m]\u001b[0m\u001b[1;33m.\u001b[0m\u001b[0mtext\u001b[0m\u001b[1;33m\u001b[0m\u001b[1;33m\u001b[0m\u001b[0m\n\u001b[0m\u001b[0;32m      6\u001b[0m \u001b[0mFAQ\u001b[0m\u001b[1;33m\u001b[0m\u001b[1;33m\u001b[0m\u001b[0m\n",
      "\u001b[1;31mIndexError\u001b[0m: list index out of range"
     ]
    }
   ],
   "source": [
    "browser.visit(url)\n",
    "html3= browser.html\n",
    "bs3 = BeautifulSoup(html3)\n",
    "FAQ_div = bs3.findAll(class_=\"faqText\")\n",
    "FAQ = FAQ_div[3].text\n",
    "FAQ"
   ]
  },
  {
   "cell_type": "code",
   "execution_count": 12,
   "id": "ecf60686",
   "metadata": {},
   "outputs": [
    {
     "data": {
      "text/plain": [
       "[]"
      ]
     },
     "execution_count": 12,
     "metadata": {},
     "output_type": "execute_result"
    }
   ],
   "source": [
    "FAQ_div"
   ]
  },
  {
   "cell_type": "code",
   "execution_count": null,
   "id": "1fa5d655",
   "metadata": {},
   "outputs": [],
   "source": [
    "bs.prettify()"
   ]
  },
  {
   "cell_type": "code",
   "execution_count": null,
   "id": "545cebb8",
   "metadata": {},
   "outputs": [],
   "source": [
    "dict:{\n",
    "    city:,\n",
    "    state:,\n",
    "    img: img,\n",
    "    desc: FAQ\n",
    "}"
   ]
  },
  {
   "cell_type": "code",
   "execution_count": null,
   "id": "143fc1f4",
   "metadata": {},
   "outputs": [],
   "source": []
  }
 ],
 "metadata": {
  "kernelspec": {
   "display_name": "Python 3",
   "language": "python",
   "name": "python3"
  },
  "language_info": {
   "codemirror_mode": {
    "name": "ipython",
    "version": 3
   },
   "file_extension": ".py",
   "mimetype": "text/x-python",
   "name": "python",
   "nbconvert_exporter": "python",
   "pygments_lexer": "ipython3",
   "version": "3.6.10"
  }
 },
 "nbformat": 4,
 "nbformat_minor": 5
}
