{
 "cells": [
  {
   "cell_type": "code",
   "execution_count": 9,
   "id": "f78d4dea",
   "metadata": {},
   "outputs": [],
   "source": [
    "#Dependencies\n",
    "#============================\n",
    "import pandas as pd \n",
    "import numpy as np"
   ]
  },
  {
   "cell_type": "code",
   "execution_count": 10,
   "id": "db2b80fc",
   "metadata": {},
   "outputs": [],
   "source": [
    "#I want to see all my columns clearly\n",
    "#========================================\n",
    "pd.options.display.max_columns = None"
   ]
  },
  {
   "cell_type": "code",
   "execution_count": 11,
   "id": "a69c30a1",
   "metadata": {},
   "outputs": [
    {
     "data": {
      "text/html": [
       "<div>\n",
       "<style scoped>\n",
       "    .dataframe tbody tr th:only-of-type {\n",
       "        vertical-align: middle;\n",
       "    }\n",
       "\n",
       "    .dataframe tbody tr th {\n",
       "        vertical-align: top;\n",
       "    }\n",
       "\n",
       "    .dataframe thead th {\n",
       "        text-align: right;\n",
       "    }\n",
       "</style>\n",
       "<table border=\"1\" class=\"dataframe\">\n",
       "  <thead>\n",
       "    <tr style=\"text-align: right;\">\n",
       "      <th></th>\n",
       "      <th>Date</th>\n",
       "      <th>County</th>\n",
       "      <th>State</th>\n",
       "      <th>fips</th>\n",
       "      <th>Cases</th>\n",
       "      <th>Deaths</th>\n",
       "    </tr>\n",
       "  </thead>\n",
       "  <tbody>\n",
       "    <tr>\n",
       "      <th>0</th>\n",
       "      <td>9/30/2021</td>\n",
       "      <td>Autauga</td>\n",
       "      <td>Alabama</td>\n",
       "      <td>1001.0</td>\n",
       "      <td>9744.0</td>\n",
       "      <td>140.0</td>\n",
       "    </tr>\n",
       "    <tr>\n",
       "      <th>1</th>\n",
       "      <td>9/30/2021</td>\n",
       "      <td>Baldwin</td>\n",
       "      <td>Alabama</td>\n",
       "      <td>1003.0</td>\n",
       "      <td>36447.0</td>\n",
       "      <td>509.0</td>\n",
       "    </tr>\n",
       "    <tr>\n",
       "      <th>2</th>\n",
       "      <td>9/30/2021</td>\n",
       "      <td>Barbour</td>\n",
       "      <td>Alabama</td>\n",
       "      <td>1005.0</td>\n",
       "      <td>3490.0</td>\n",
       "      <td>71.0</td>\n",
       "    </tr>\n",
       "    <tr>\n",
       "      <th>3</th>\n",
       "      <td>9/30/2021</td>\n",
       "      <td>Bibb</td>\n",
       "      <td>Alabama</td>\n",
       "      <td>1007.0</td>\n",
       "      <td>4131.0</td>\n",
       "      <td>83.0</td>\n",
       "    </tr>\n",
       "    <tr>\n",
       "      <th>4</th>\n",
       "      <td>9/30/2021</td>\n",
       "      <td>Blount</td>\n",
       "      <td>Alabama</td>\n",
       "      <td>1009.0</td>\n",
       "      <td>9818.0</td>\n",
       "      <td>160.0</td>\n",
       "    </tr>\n",
       "    <tr>\n",
       "      <th>...</th>\n",
       "      <td>...</td>\n",
       "      <td>...</td>\n",
       "      <td>...</td>\n",
       "      <td>...</td>\n",
       "      <td>...</td>\n",
       "      <td>...</td>\n",
       "    </tr>\n",
       "    <tr>\n",
       "      <th>97471</th>\n",
       "      <td>10/29/2021</td>\n",
       "      <td>Sweetwater</td>\n",
       "      <td>Wyoming</td>\n",
       "      <td>56037.0</td>\n",
       "      <td>7575.0</td>\n",
       "      <td>80.0</td>\n",
       "    </tr>\n",
       "    <tr>\n",
       "      <th>97472</th>\n",
       "      <td>10/29/2021</td>\n",
       "      <td>Teton</td>\n",
       "      <td>Wyoming</td>\n",
       "      <td>56039.0</td>\n",
       "      <td>5204.0</td>\n",
       "      <td>14.0</td>\n",
       "    </tr>\n",
       "    <tr>\n",
       "      <th>97473</th>\n",
       "      <td>10/29/2021</td>\n",
       "      <td>Uinta</td>\n",
       "      <td>Wyoming</td>\n",
       "      <td>56041.0</td>\n",
       "      <td>3829.0</td>\n",
       "      <td>26.0</td>\n",
       "    </tr>\n",
       "    <tr>\n",
       "      <th>97474</th>\n",
       "      <td>10/29/2021</td>\n",
       "      <td>Washakie</td>\n",
       "      <td>Wyoming</td>\n",
       "      <td>56043.0</td>\n",
       "      <td>1730.0</td>\n",
       "      <td>35.0</td>\n",
       "    </tr>\n",
       "    <tr>\n",
       "      <th>97475</th>\n",
       "      <td>10/29/2021</td>\n",
       "      <td>Weston</td>\n",
       "      <td>Wyoming</td>\n",
       "      <td>56045.0</td>\n",
       "      <td>1109.0</td>\n",
       "      <td>9.0</td>\n",
       "    </tr>\n",
       "  </tbody>\n",
       "</table>\n",
       "<p>97476 rows × 6 columns</p>\n",
       "</div>"
      ],
      "text/plain": [
       "             Date      County    State     fips    Cases  Deaths\n",
       "0       9/30/2021     Autauga  Alabama   1001.0   9744.0   140.0\n",
       "1       9/30/2021     Baldwin  Alabama   1003.0  36447.0   509.0\n",
       "2       9/30/2021     Barbour  Alabama   1005.0   3490.0    71.0\n",
       "3       9/30/2021        Bibb  Alabama   1007.0   4131.0    83.0\n",
       "4       9/30/2021      Blount  Alabama   1009.0   9818.0   160.0\n",
       "...           ...         ...      ...      ...      ...     ...\n",
       "97471  10/29/2021  Sweetwater  Wyoming  56037.0   7575.0    80.0\n",
       "97472  10/29/2021       Teton  Wyoming  56039.0   5204.0    14.0\n",
       "97473  10/29/2021       Uinta  Wyoming  56041.0   3829.0    26.0\n",
       "97474  10/29/2021    Washakie  Wyoming  56043.0   1730.0    35.0\n",
       "97475  10/29/2021      Weston  Wyoming  56045.0   1109.0     9.0\n",
       "\n",
       "[97476 rows x 6 columns]"
      ]
     },
     "execution_count": 11,
     "metadata": {},
     "output_type": "execute_result"
    }
   ],
   "source": [
    "#Import the csv\n",
    "county_df = pd.read_csv(\"Counties_covid.csv\")\n",
    "county_df"
   ]
  },
  {
   "cell_type": "code",
   "execution_count": 12,
   "id": "44b745d6",
   "metadata": {},
   "outputs": [],
   "source": [
    "#break it down by state first\n",
    "#=================================================================\n",
    "AL_df = county_df[county_df['State']== 'Alabama']\n",
    "AK_df = county_df[county_df['State']== 'Alaska']\n",
    "AZ_df = county_df[county_df['State']== 'Arizona']\n",
    "CA_df = county_df[county_df['State']== 'California']\n",
    "CO_df = county_df[county_df['State']== 'Colorado']\n",
    "CT_df = county_df[county_df['State']== 'Connecticut']\n",
    "DE_df = county_df[county_df['State']== 'Delaware']\n",
    "DC_df = county_df[county_df['State']== 'District of Columbia']\n",
    "FL_df = county_df[county_df['State']== 'Florida']\n",
    "GA_df = county_df[county_df['State']== 'Georgia']\n",
    "HI_df = county_df[county_df['State']== 'Hawaii']\n",
    "ID_df = county_df[county_df['State']== 'Idaho']\n",
    "IL_df = county_df[county_df['State']== 'Illinois']\n",
    "IN_df = county_df[county_df['State']== 'Indiana']\n",
    "IA_df = county_df[county_df['State']== 'Iowa']\n",
    "KS_df = county_df[county_df['State']== 'Kansas']\n",
    "KY_df = county_df[county_df['State']== 'Kentucky']\n",
    "LA_df = county_df[county_df['State']== 'Louisiana']\n",
    "ME_df = county_df[county_df['State']== 'Maine']\n",
    "MD_df = county_df[county_df['State']== 'Maryland']\n",
    "MA_df = county_df[county_df['State']== 'Massachusetts']\n",
    "MI_df = county_df[county_df['State']== 'Michigan']\n",
    "MN_df = county_df[county_df['State']== 'Minnesota']\n",
    "MS_df = county_df[county_df['State']== 'Mississippi']\n",
    "MO_df = county_df[county_df['State']== 'Missouri']\n",
    "MT_df = county_df[county_df['State']== 'Montana']\n",
    "NE_df = county_df[county_df['State']== 'Nebraska']\n",
    "NV_df = county_df[county_df['State']== 'Nevada']\n",
    "NH_df = county_df[county_df['State']== 'New Hampshire']\n",
    "NJ_df = county_df[county_df['State']== 'New Jersey']\n",
    "NM_df = county_df[county_df['State']== 'New Mexico']\n",
    "NY_df = county_df[county_df['State']== 'New York']\n",
    "NC_df = county_df[county_df['State']== 'North Carolina']\n",
    "ND_df = county_df[county_df['State']== 'North Dakota']\n",
    "OH_df = county_df[county_df['State']== 'Ohio']\n",
    "OK_df = county_df[county_df['State']== 'Oklahoma']\n",
    "OR_df = county_df[county_df['State']== 'Oregon']\n",
    "PA_df = county_df[county_df['State']== 'Pennsylvania']\n",
    "RI_df = county_df[county_df['State']== 'Rhode Island']\n",
    "SC_df = county_df[county_df['State']== 'South Carolina']\n",
    "SD_df = county_df[county_df['State']== 'South Dakota']\n",
    "TN_df = county_df[county_df['State']== 'Tennessee']\n",
    "TX_df = county_df[county_df['State']== 'Texas']\n",
    "UT_df = county_df[county_df['State']== 'Utah']\n",
    "VT_df = county_df[county_df['State']== 'Vermont']\n",
    "VA_df = county_df[county_df['State']== 'Virginia']\n",
    "WV_df = county_df[county_df['State']== 'West Virginia']\n",
    "WI_df = county_df[county_df['State']== 'Wisconsin']\n",
    "WY_df = county_df[county_df['State']== 'Wyoming']\n",
    "AR_df = county_df[county_df['State']== 'Arkansas']\n",
    "WA_df = county_df[county_df['State']== 'Washington']"
   ]
  },
  {
   "cell_type": "code",
   "execution_count": 13,
   "id": "976f5d2e",
   "metadata": {},
   "outputs": [
    {
     "data": {
      "text/html": [
       "<div>\n",
       "<style scoped>\n",
       "    .dataframe tbody tr th:only-of-type {\n",
       "        vertical-align: middle;\n",
       "    }\n",
       "\n",
       "    .dataframe tbody tr th {\n",
       "        vertical-align: top;\n",
       "    }\n",
       "\n",
       "    .dataframe thead th {\n",
       "        text-align: right;\n",
       "    }\n",
       "</style>\n",
       "<table border=\"1\" class=\"dataframe\">\n",
       "  <thead>\n",
       "    <tr style=\"text-align: right;\">\n",
       "      <th></th>\n",
       "      <th>Date</th>\n",
       "      <th>County</th>\n",
       "      <th>State</th>\n",
       "      <th>fips</th>\n",
       "      <th>Cases</th>\n",
       "      <th>Deaths</th>\n",
       "    </tr>\n",
       "  </thead>\n",
       "  <tbody>\n",
       "    <tr>\n",
       "      <th>3060</th>\n",
       "      <td>9/30/2021</td>\n",
       "      <td>Adams</td>\n",
       "      <td>Washington</td>\n",
       "      <td>53001.0</td>\n",
       "      <td>3023.0</td>\n",
       "      <td>27.0</td>\n",
       "    </tr>\n",
       "    <tr>\n",
       "      <th>3061</th>\n",
       "      <td>9/30/2021</td>\n",
       "      <td>Asotin</td>\n",
       "      <td>Washington</td>\n",
       "      <td>53003.0</td>\n",
       "      <td>2518.0</td>\n",
       "      <td>46.0</td>\n",
       "    </tr>\n",
       "    <tr>\n",
       "      <th>3062</th>\n",
       "      <td>9/30/2021</td>\n",
       "      <td>Benton</td>\n",
       "      <td>Washington</td>\n",
       "      <td>53005.0</td>\n",
       "      <td>29192.0</td>\n",
       "      <td>332.0</td>\n",
       "    </tr>\n",
       "    <tr>\n",
       "      <th>3063</th>\n",
       "      <td>9/30/2021</td>\n",
       "      <td>Chelan</td>\n",
       "      <td>Washington</td>\n",
       "      <td>53007.0</td>\n",
       "      <td>10274.0</td>\n",
       "      <td>97.0</td>\n",
       "    </tr>\n",
       "    <tr>\n",
       "      <th>3064</th>\n",
       "      <td>9/30/2021</td>\n",
       "      <td>Clallam</td>\n",
       "      <td>Washington</td>\n",
       "      <td>53009.0</td>\n",
       "      <td>4122.0</td>\n",
       "      <td>46.0</td>\n",
       "    </tr>\n",
       "    <tr>\n",
       "      <th>...</th>\n",
       "      <td>...</td>\n",
       "      <td>...</td>\n",
       "      <td>...</td>\n",
       "      <td>...</td>\n",
       "      <td>...</td>\n",
       "      <td>...</td>\n",
       "    </tr>\n",
       "    <tr>\n",
       "      <th>97321</th>\n",
       "      <td>10/29/2021</td>\n",
       "      <td>Wahkiakum</td>\n",
       "      <td>Washington</td>\n",
       "      <td>53069.0</td>\n",
       "      <td>280.0</td>\n",
       "      <td>5.0</td>\n",
       "    </tr>\n",
       "    <tr>\n",
       "      <th>97322</th>\n",
       "      <td>10/29/2021</td>\n",
       "      <td>Walla Walla</td>\n",
       "      <td>Washington</td>\n",
       "      <td>53071.0</td>\n",
       "      <td>8978.0</td>\n",
       "      <td>103.0</td>\n",
       "    </tr>\n",
       "    <tr>\n",
       "      <th>97323</th>\n",
       "      <td>10/29/2021</td>\n",
       "      <td>Whatcom</td>\n",
       "      <td>Washington</td>\n",
       "      <td>53073.0</td>\n",
       "      <td>16472.0</td>\n",
       "      <td>161.0</td>\n",
       "    </tr>\n",
       "    <tr>\n",
       "      <th>97324</th>\n",
       "      <td>10/29/2021</td>\n",
       "      <td>Whitman</td>\n",
       "      <td>Washington</td>\n",
       "      <td>53075.0</td>\n",
       "      <td>5886.0</td>\n",
       "      <td>79.0</td>\n",
       "    </tr>\n",
       "    <tr>\n",
       "      <th>97325</th>\n",
       "      <td>10/29/2021</td>\n",
       "      <td>Yakima</td>\n",
       "      <td>Washington</td>\n",
       "      <td>53077.0</td>\n",
       "      <td>45068.0</td>\n",
       "      <td>590.0</td>\n",
       "    </tr>\n",
       "  </tbody>\n",
       "</table>\n",
       "<p>1170 rows × 6 columns</p>\n",
       "</div>"
      ],
      "text/plain": [
       "             Date       County       State     fips    Cases  Deaths\n",
       "3060    9/30/2021        Adams  Washington  53001.0   3023.0    27.0\n",
       "3061    9/30/2021       Asotin  Washington  53003.0   2518.0    46.0\n",
       "3062    9/30/2021       Benton  Washington  53005.0  29192.0   332.0\n",
       "3063    9/30/2021       Chelan  Washington  53007.0  10274.0    97.0\n",
       "3064    9/30/2021      Clallam  Washington  53009.0   4122.0    46.0\n",
       "...           ...          ...         ...      ...      ...     ...\n",
       "97321  10/29/2021    Wahkiakum  Washington  53069.0    280.0     5.0\n",
       "97322  10/29/2021  Walla Walla  Washington  53071.0   8978.0   103.0\n",
       "97323  10/29/2021      Whatcom  Washington  53073.0  16472.0   161.0\n",
       "97324  10/29/2021      Whitman  Washington  53075.0   5886.0    79.0\n",
       "97325  10/29/2021       Yakima  Washington  53077.0  45068.0   590.0\n",
       "\n",
       "[1170 rows x 6 columns]"
      ]
     },
     "execution_count": 13,
     "metadata": {},
     "output_type": "execute_result"
    }
   ],
   "source": [
    "WA_df"
   ]
  },
  {
   "cell_type": "code",
   "execution_count": 19,
   "id": "4b4b18d3",
   "metadata": {},
   "outputs": [
    {
     "name": "stdout",
     "output_type": "stream",
     "text": [
      "11032.0\n"
     ]
    }
   ],
   "source": [
    "#Pulling the final caseload number for county\n",
    "#===============================================================\n",
    "hawaii_county = HI_df[HI_df['County']=='Hawaii'] \n",
    "hawaii_county_caseload = (hawaii_county['Cases'].iloc[-1])\n",
    "print(hawaii_county_caseload)"
   ]
  },
  {
   "cell_type": "code",
   "execution_count": 33,
   "id": "692c8d08",
   "metadata": {},
   "outputs": [
    {
     "name": "stdout",
     "output_type": "stream",
     "text": [
      "30291.0\n"
     ]
    }
   ],
   "source": [
    "sloc = CA_df[CA_df['County']== 'San Luis Obispo']\n",
    "sloc_caseload = (sloc['Cases'].iloc[-1])\n",
    "print(sloc_caseload)"
   ]
  },
  {
   "cell_type": "code",
   "execution_count": 34,
   "id": "f4bdfd65",
   "metadata": {},
   "outputs": [
    {
     "name": "stdout",
     "output_type": "stream",
     "text": [
      "28923.0\n"
     ]
    }
   ],
   "source": [
    "wash_county = UT_df[UT_df['County']== 'Washington']\n",
    "wash_cc = (wash_county['Cases'].iloc[-1])\n",
    "print(wash_cc)"
   ]
  },
  {
   "cell_type": "code",
   "execution_count": 35,
   "id": "1ee0173e",
   "metadata": {},
   "outputs": [
    {
     "name": "stdout",
     "output_type": "stream",
     "text": [
      "23433.0\n"
     ]
    }
   ],
   "source": [
    "jack_county = OR_df[OR_df['County']== 'Jackson']\n",
    "jack_cc = (jack_county['Cases'].iloc[-1])\n",
    "print(jack_cc)                   "
   ]
  },
  {
   "cell_type": "code",
   "execution_count": 36,
   "id": "fa2061cf",
   "metadata": {},
   "outputs": [
    {
     "name": "stdout",
     "output_type": "stream",
     "text": [
      "28355.0\n"
     ]
    }
   ],
   "source": [
    "yav_county = AZ_df[AZ_df['County']== 'Yavapai']\n",
    "yav_cc = (yav_county['Cases'].iloc[-1])\n",
    "print(yav_cc)"
   ]
  },
  {
   "cell_type": "code",
   "execution_count": 37,
   "id": "05704333",
   "metadata": {},
   "outputs": [
    {
     "name": "stdout",
     "output_type": "stream",
     "text": [
      "159612.0\n"
     ]
    }
   ],
   "source": [
    "mid_county = MA_df[MA_df['County']== 'Middlesex']\n",
    "mid_cc = (mid_county['Cases'].iloc[-1])\n",
    "print(mid_cc)"
   ]
  },
  {
   "cell_type": "code",
   "execution_count": 38,
   "id": "eaad788f",
   "metadata": {},
   "outputs": [
    {
     "name": "stdout",
     "output_type": "stream",
     "text": [
      "156327.0\n"
     ]
    }
   ],
   "source": [
    "hen_county = MN_df[MN_df['County']== 'Hennepin']\n",
    "hen_cc = (hen_county['Cases'].iloc[-1])\n",
    "print(hen_cc)"
   ]
  },
  {
   "cell_type": "code",
   "execution_count": 40,
   "id": "0fb43497",
   "metadata": {},
   "outputs": [
    {
     "name": "stdout",
     "output_type": "stream",
     "text": [
      "45650.0\n"
     ]
    }
   ],
   "source": [
    "SB_county = CA_df[CA_df['County']== 'Santa Barbara']\n",
    "sb_cc = (SB_county['Cases'].iloc[-1])\n",
    "print(sb_cc)"
   ]
  },
  {
   "cell_type": "code",
   "execution_count": 41,
   "id": "fe82c2cd",
   "metadata": {},
   "outputs": [
    {
     "name": "stdout",
     "output_type": "stream",
     "text": [
      "2851.0\n"
     ]
    }
   ],
   "source": [
    "han_county = ME_df[ME_df['County']== 'Hancock']\n",
    "han_cc = (han_county['Cases'].iloc[-1])\n",
    "print(han_cc)"
   ]
  },
  {
   "cell_type": "code",
   "execution_count": 43,
   "id": "58aa95f8",
   "metadata": {},
   "outputs": [
    {
     "name": "stdout",
     "output_type": "stream",
     "text": [
      "10520.0\n"
     ]
    }
   ],
   "source": [
    "mon_county = FL_df[FL_df['County']== 'Monroe']\n",
    "mon_cc = (mon_county['Cases'].iloc[-1])\n",
    "print(mon_cc)"
   ]
  },
  {
   "cell_type": "code",
   "execution_count": 44,
   "id": "a11766ba",
   "metadata": {},
   "outputs": [
    {
     "name": "stdout",
     "output_type": "stream",
     "text": [
      "124961.0\n"
     ]
    }
   ],
   "source": [
    "lee_county = FL_df[FL_df['County']== 'Lee']\n",
    "lee_cc = (lee_county['Cases'].iloc[-1])\n",
    "print(lee_cc)"
   ]
  },
  {
   "cell_type": "code",
   "execution_count": 46,
   "id": "30957505",
   "metadata": {},
   "outputs": [
    {
     "name": "stdout",
     "output_type": "stream",
     "text": [
      "131892.0\n"
     ]
    }
   ],
   "source": [
    "all_county = PA_df[PA_df['County']== 'Allegheny']\n",
    "all_cc = (all_county['Cases'].iloc[-1])\n",
    "print(all_cc)"
   ]
  },
  {
   "cell_type": "code",
   "execution_count": 47,
   "id": "b1b69195",
   "metadata": {},
   "outputs": [
    {
     "name": "stdout",
     "output_type": "stream",
     "text": [
      "64240.0\n"
     ]
    }
   ],
   "source": [
    "wdc_county = DC_df[DC_df['County']== 'District of Columbia']\n",
    "wdc_cc = (wdc_county['Cases'].iloc[-1])\n",
    "print(wdc_cc)"
   ]
  },
  {
   "cell_type": "code",
   "execution_count": 48,
   "id": "7dda92f0",
   "metadata": {},
   "outputs": [
    {
     "name": "stdout",
     "output_type": "stream",
     "text": [
      "65233.0\n"
     ]
    }
   ],
   "source": [
    "csc_county = SC_df[SC_df['County']== 'Charleston']\n",
    "csc_cc = (csc_county['Cases'].iloc[-1])\n",
    "print(csc_cc)"
   ]
  },
  {
   "cell_type": "code",
   "execution_count": 49,
   "id": "86aa1621",
   "metadata": {},
   "outputs": [
    {
     "name": "stdout",
     "output_type": "stream",
     "text": [
      "641268.0\n"
     ]
    }
   ],
   "source": [
    "ril_county = IL_df[IL_df['County']== 'Cook']\n",
    "ril_cc = (ril_county['Cases'].iloc[-1])\n",
    "print(ril_cc)"
   ]
  },
  {
   "cell_type": "code",
   "execution_count": 50,
   "id": "ab650607",
   "metadata": {},
   "outputs": [
    {
     "name": "stdout",
     "output_type": "stream",
     "text": [
      "5922.0\n"
     ]
    }
   ],
   "source": [
    "dco_county = CO_df[CO_df['County']== 'La Plata']\n",
    "dco_cc = (dco_county['Cases'].iloc[-1])\n",
    "print(dco_cc)"
   ]
  },
  {
   "cell_type": "code",
   "execution_count": 51,
   "id": "137e5ea3",
   "metadata": {},
   "outputs": [
    {
     "name": "stdout",
     "output_type": "stream",
     "text": [
      "9898.0\n"
     ]
    }
   ],
   "source": [
    "khi_county = HI_df[HI_df['County']=='Maui'] \n",
    "maui_county_caseload = (khi_county['Cases'].iloc[-1])\n",
    "print(maui_county_caseload)"
   ]
  },
  {
   "cell_type": "code",
   "execution_count": 52,
   "id": "e3429798",
   "metadata": {},
   "outputs": [
    {
     "name": "stdout",
     "output_type": "stream",
     "text": [
      "2614.0\n"
     ]
    }
   ],
   "source": [
    "lhi_county = HI_df[HI_df['County']=='Kauai'] \n",
    "kauai_county_caseload = (lhi_county['Cases'].iloc[-1])\n",
    "print(kauai_county_caseload)"
   ]
  },
  {
   "cell_type": "code",
   "execution_count": 53,
   "id": "e1160e39",
   "metadata": {},
   "outputs": [
    {
     "name": "stdout",
     "output_type": "stream",
     "text": [
      "28191.0\n"
     ]
    }
   ],
   "source": [
    "anc_county = NC_df[NC_df['County']== 'Buncombe']\n",
    "anc_cc = (anc_county['Cases'].iloc[-1])\n",
    "print(anc_cc)"
   ]
  },
  {
   "cell_type": "code",
   "execution_count": 54,
   "id": "0167c9fe",
   "metadata": {},
   "outputs": [
    {
     "name": "stdout",
     "output_type": "stream",
     "text": [
      "1427.0\n"
     ]
    }
   ],
   "source": [
    "mut_county = UT_df[UT_df['County']== 'Grand']\n",
    "mut_cc = (mut_county['Cases'].iloc[-1])\n",
    "print(mut_cc)"
   ]
  },
  {
   "cell_type": "code",
   "execution_count": 56,
   "id": "5705bfdd",
   "metadata": {},
   "outputs": [
    {
     "name": "stdout",
     "output_type": "stream",
     "text": [
      "164221.0\n"
     ]
    }
   ],
   "source": [
    "swa_county = WA_df[WA_df['County']== 'King']\n",
    "swa_cc = (swa_county['Cases'].iloc[-1])\n",
    "print(swa_cc)"
   ]
  },
  {
   "cell_type": "code",
   "execution_count": 57,
   "id": "d00975ad",
   "metadata": {},
   "outputs": [
    {
     "name": "stdout",
     "output_type": "stream",
     "text": [
      "737103.0\n"
     ]
    }
   ],
   "source": [
    "maz_county = AZ_df[AZ_df['County']== 'Maricopa']\n",
    "maz_cc = (maz_county['Cases'].iloc[-1])\n",
    "print(maz_cc)"
   ]
  },
  {
   "cell_type": "code",
   "execution_count": 58,
   "id": "df0f572b",
   "metadata": {},
   "outputs": [
    {
     "name": "stdout",
     "output_type": "stream",
     "text": [
      "107738.0\n"
     ]
    }
   ],
   "source": [
    "bma_county = MA_df[MA_df['County']== 'Suffolk']\n",
    "bma_cc = (bma_county['Cases'].iloc[-1])\n",
    "print(bma_cc)"
   ]
  },
  {
   "cell_type": "code",
   "execution_count": 59,
   "id": "eee966c9",
   "metadata": {},
   "outputs": [
    {
     "name": "stdout",
     "output_type": "stream",
     "text": [
      "148161.0\n"
     ]
    }
   ],
   "source": [
    "coh_county = OH_df[OH_df['County']== 'Cuyahoga']\n",
    "coh_cc = (coh_county['Cases'].iloc[-1])\n",
    "print(coh_cc)"
   ]
  },
  {
   "cell_type": "code",
   "execution_count": 61,
   "id": "ecbbe8e6",
   "metadata": {},
   "outputs": [
    {
     "name": "stdout",
     "output_type": "stream",
     "text": [
      "46796.0\n"
     ]
    }
   ],
   "source": [
    "nola_county = LA_df[LA_df['County']== 'Orleans']\n",
    "nola_cc = (nola_county['Cases'].iloc[-1])\n",
    "print(nola_cc)"
   ]
  },
  {
   "cell_type": "code",
   "execution_count": 62,
   "id": "18b89d3b",
   "metadata": {},
   "outputs": [
    {
     "name": "stdout",
     "output_type": "stream",
     "text": [
      "134378.0\n"
     ]
    }
   ],
   "source": [
    "pfl_county = FL_df[FL_df['County']== 'Pinellas']\n",
    "pfl_cc = (pfl_county['Cases'].iloc[-1])\n",
    "print(pfl_cc)"
   ]
  },
  {
   "cell_type": "code",
   "execution_count": 63,
   "id": "52b94b44",
   "metadata": {},
   "outputs": [
    {
     "name": "stdout",
     "output_type": "stream",
     "text": [
      "6808.0\n"
     ]
    }
   ],
   "source": [
    "put_county = UT_df[UT_df['County']== 'Summit']\n",
    "put_cc = (put_county['Cases'].iloc[-1])\n",
    "print(put_cc)"
   ]
  },
  {
   "cell_type": "code",
   "execution_count": 64,
   "id": "44b587ba",
   "metadata": {},
   "outputs": [
    {
     "name": "stdout",
     "output_type": "stream",
     "text": [
      "32212.0\n"
     ]
    }
   ],
   "source": [
    "fnd_county = ND_df[ND_df['County']== 'Cass']\n",
    "fnd_cc = (fnd_county['Cases'].iloc[-1])\n",
    "print(fnd_cc)"
   ]
  },
  {
   "cell_type": "code",
   "execution_count": 65,
   "id": "d81dd64d",
   "metadata": {},
   "outputs": [
    {
     "name": "stdout",
     "output_type": "stream",
     "text": [
      "339255.0\n"
     ]
    }
   ],
   "source": [
    "hnv_county = NV_df[NV_df['County']== 'Clark']\n",
    "hnv_cc = (hnv_county['Cases'].iloc[-1])\n",
    "print(hnv_cc)"
   ]
  },
  {
   "cell_type": "code",
   "execution_count": 74,
   "id": "b1f9af0e",
   "metadata": {},
   "outputs": [
    {
     "name": "stdout",
     "output_type": "stream",
     "text": [
      "326246.0\n"
     ]
    }
   ],
   "source": [
    "ggca_county = CA_df[CA_df['County']== 'Orange']\n",
    "ggca_cc = (ggca_county['Cases'].iloc[-1])\n",
    "print(ggca_cc)"
   ]
  },
  {
   "cell_type": "code",
   "execution_count": 67,
   "id": "c18eff51",
   "metadata": {},
   "outputs": [
    {
     "name": "stdout",
     "output_type": "stream",
     "text": [
      "39807.0\n"
     ]
    }
   ],
   "source": [
    "epco_county = CO_df[CO_df['County']== 'Larimer']\n",
    "epco_cc = (epco_county['Cases'].iloc[-1])\n",
    "print(epco_cc)"
   ]
  },
  {
   "cell_type": "code",
   "execution_count": 68,
   "id": "0a9409bf",
   "metadata": {},
   "outputs": [
    {
     "name": "stdout",
     "output_type": "stream",
     "text": [
      "13456.0\n"
     ]
    }
   ],
   "source": [
    "sfnm_county = NM_df[NM_df['County']== 'Santa Fe']\n",
    "sfnm_cc = (sfnm_county['Cases'].iloc[-1])\n",
    "print(sfnm_cc)"
   ]
  },
  {
   "cell_type": "code",
   "execution_count": 70,
   "id": "ee230c31",
   "metadata": {},
   "outputs": [
    {
     "name": "stdout",
     "output_type": "stream",
     "text": [
      "3691.0\n"
     ]
    }
   ],
   "source": [
    "ava_county = VA_df[VA_df['County']== 'Hopewell city']\n",
    "ava_cc = (ava_county['Cases'].iloc[-1])\n",
    "print(ava_cc)"
   ]
  },
  {
   "cell_type": "code",
   "execution_count": 71,
   "id": "2061523b",
   "metadata": {},
   "outputs": [
    {
     "name": "stdout",
     "output_type": "stream",
     "text": [
      "8809.0\n"
     ]
    }
   ],
   "source": [
    "npri_county = RI_df[RI_df['County']== 'Newport']\n",
    "npri_cc = (npri_county['Cases'].iloc[-1])\n",
    "print(npri_cc)"
   ]
  },
  {
   "cell_type": "code",
   "execution_count": 73,
   "id": "3f6487c7",
   "metadata": {},
   "outputs": [
    {
     "name": "stdout",
     "output_type": "stream",
     "text": [
      "374712.0\n"
     ]
    }
   ],
   "source": [
    "pdca_county = CA_df[CA_df['County']== 'Riverside']\n",
    "pdca_cc = (pdca_county['Cases'].iloc[-1])\n",
    "print(pdca_cc)"
   ]
  },
  {
   "cell_type": "code",
   "execution_count": 75,
   "id": "80b7afa2",
   "metadata": {},
   "outputs": [
    {
     "name": "stdout",
     "output_type": "stream",
     "text": [
      "1491402.0\n"
     ]
    }
   ],
   "source": [
    "aca_county = CA_df[CA_df['County']== 'Los Angeles']\n",
    "aca_cc = (aca_county['Cases'].iloc[-1])\n",
    "print(aca_cc)"
   ]
  },
  {
   "cell_type": "code",
   "execution_count": 76,
   "id": "f411d273",
   "metadata": {},
   "outputs": [
    {
     "name": "stdout",
     "output_type": "stream",
     "text": [
      "20680.0\n"
     ]
    }
   ],
   "source": [
    "bmt_county = MT_df[MT_df['County']== 'Gallatin']\n",
    "bmt_cc = (bmt_county['Cases'].iloc[-1])\n",
    "print(bmt_cc)"
   ]
  },
  {
   "cell_type": "code",
   "execution_count": 77,
   "id": "9da8c636",
   "metadata": {},
   "outputs": [
    {
     "name": "stdout",
     "output_type": "stream",
     "text": [
      "391534.0\n"
     ]
    }
   ],
   "source": [
    "ljca_county = CA_df[CA_df['County']== 'San Diego']\n",
    "ljca_cc = (ljca_county['Cases'].iloc[-1])\n",
    "print(ljca_cc)"
   ]
  },
  {
   "cell_type": "code",
   "execution_count": 78,
   "id": "cfac8e69",
   "metadata": {},
   "outputs": [
    {
     "name": "stdout",
     "output_type": "stream",
     "text": [
      "22078.0\n"
     ]
    }
   ],
   "source": [
    "pme_county = ME_df[ME_df['County']== 'Cumberland']\n",
    "pme_cc = (pme_county['Cases'].iloc[-1])\n",
    "print(pme_cc)"
   ]
  },
  {
   "cell_type": "code",
   "execution_count": 79,
   "id": "3c43db24",
   "metadata": {},
   "outputs": [
    {
     "name": "stdout",
     "output_type": "stream",
     "text": [
      "34446.0\n"
     ]
    }
   ],
   "source": [
    "bms_county = MS_df[MS_df['County']== 'Harrison']\n",
    "bms_cc = (bms_county['Cases'].iloc[-1])\n",
    "print(bms_cc)"
   ]
  },
  {
   "cell_type": "code",
   "execution_count": null,
   "id": "6d284bfa",
   "metadata": {},
   "outputs": [],
   "source": []
  },
  {
   "cell_type": "code",
   "execution_count": null,
   "id": "d7587b46",
   "metadata": {},
   "outputs": [],
   "source": []
  }
 ],
 "metadata": {
  "kernelspec": {
   "display_name": "Python 3",
   "language": "python",
   "name": "python3"
  },
  "language_info": {
   "codemirror_mode": {
    "name": "ipython",
    "version": 3
   },
   "file_extension": ".py",
   "mimetype": "text/x-python",
   "name": "python",
   "nbconvert_exporter": "python",
   "pygments_lexer": "ipython3",
   "version": "3.8.8"
  }
 },
 "nbformat": 4,
 "nbformat_minor": 5
}
